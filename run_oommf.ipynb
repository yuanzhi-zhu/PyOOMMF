{
 "cells": [
  {
   "cell_type": "markdown",
   "metadata": {},
   "source": [
    "## Run oommf within jupyter"
   ]
  },
  {
   "cell_type": "code",
   "execution_count": 1,
   "metadata": {},
   "outputs": [],
   "source": [
    "import subprocess"
   ]
  },
  {
   "cell_type": "code",
   "execution_count": 2,
   "metadata": {},
   "outputs": [],
   "source": [
    "file_name='C:/Users/z/Downloads/Thermal_test.mif'\n",
    "file_name='C:/Tcl/oommf/tests/onespin.mif'\n",
    "oommf_path='C:/Tcl/oommf/oommf.tcl'\n",
    "\n",
    "\n",
    "threads_number =    4\n",
    "# parameter           =    ['-parameters \"A 13e-12 Ms 800e3\"']"
   ]
  },
  {
   "cell_type": "code",
   "execution_count": 3,
   "metadata": {},
   "outputs": [],
   "source": [
    "cmd=['tclsh',oommf_path]\n",
    "# run_oommf=['boxsi',parameter,'-threads',str(threads_number),file_name]\n",
    "run_oommf=['boxsi','-threads',str(threads_number),file_name]\n",
    "\n",
    "# some other useful cmd line\n",
    "open_graph          =    ['mmGraph']\n",
    "get_help               =    ['+help']\n",
    "as_background    =    ['+bg']\n",
    "\n",
    "cmd +=  run_oommf"
   ]
  },
  {
   "cell_type": "code",
   "execution_count": 10,
   "metadata": {
    "scrolled": true
   },
   "outputs": [
    {
     "name": "stdout",
     "output_type": "stream",
     "text": [
      "b'Start: \"C:/Tcl/oommf/tests/onespin.mif\"\\r\\n'\n",
      "b'Options: -threads 4\\r\\n'\n",
      "b'Boxsi version 2.0a2\\r\\n'\n",
      "b'Running on: laptop-7049vcbd\\r\\n'\n",
      "b'OS/machine: Windows NT/amd64\\r\\n'\n",
      "b'User: z\\tPID: 4776\\r\\n'\n",
      "b'Number of threads: 4\\r\\n'\n",
      "b'Mesh geometry: 1 x 1 x 1 = 1 cells\\r\\n'\n",
      "b'Checkpoint file: C:/Tcl/oommf/tests/onespin.restart\\r\\n'\n",
      "b'Boxsi run end.\\r\\n'\n",
      "b''\n",
      "/n\n",
      "(b'', b'Logging to file \"C:/Tcl/oommf/boxsi.errors\"\\r\n",
      "\\r\n",
      "[Boxsi<4776-laptop-7049vcbd-z> 12:26:01.211 2020-02-10] 2.0a2 infolog:\\r\n",
      "Start: \"C:/Tcl/oommf/tests/onespin.mif\"\\r\n",
      "Options: -threads 4\\r\n",
      "Thread 0 FPU control data: x87=001F sse=1FBA\\r\n",
      "Thread 0 FPU control data: x87=001F sse=1FBA\\r\n",
      "Thread 1 FPU control data: x87=001F sse=1F80\\r\n",
      "Thread 0 FPU control data: x87=001F sse=1FBA\\r\n",
      "Thread 2 FPU control data: x87=001F sse=1F80\\r\n",
      "Thread 0 FPU control data: x87=001F sse=1FBA\\r\n",
      "Thread 3 FPU control data: x87=001F sse=1F80\\r\n",
      "\\r\n",
      "[Boxsi<4776-laptop-7049vcbd-z> 12:26:01.251 2020-02-10] 2.0a2 infolog:\\r\n",
      "Boxsi version 2.0a2\\r\n",
      "Running on: laptop-7049vcbd\\r\n",
      "OS/machine: Windows NT/amd64\\r\n",
      "User: z\\tPID: 4776\\r\n",
      "Number of threads: 4\\r\n",
      "Mesh geometry: 1 x 1 x 1 = 1 cells\\r\n",
      "Checkpoint file: C:/Tcl/oommf/tests/onespin.restart\\r\n",
      "\\r\n",
      "[Boxsi<4776-laptop-7049vcbd-z> 12:26:01.261 2020-02-10] 2.0a2 infolog:\\r\n",
      "Loaded \"onespin.mif\", CRC: 0x25684531, 1514 bytes \\r\n",
      "\\r\n",
      "[Boxsi<4776-laptop-7049vcbd-z> 12:26:06.101 2020-02-10] 2.0a2 infolog:\\r\n",
      "End \"onespin.mif\"\\r\n",
      "')\n"
     ]
    }
   ],
   "source": [
    "p = subprocess.Popen( cmd, stdin=subprocess.PIPE, stdout=subprocess.PIPE, stderr=subprocess.PIPE, shell=True)\n",
    "\n",
    "## The while loop print all the information about run-time message\n",
    "while p.poll() is None:\n",
    "    \"\"\"Grab stdout line by line as it becomes available.  This will loop until p terminates.\n",
    "    \"\"\"\n",
    "    l = p.stdout.readline() # This blocks until it receives a newline.\n",
    "    print(l)\n",
    "    \n",
    "print('/n')\n",
    "\n",
    "## This print the oommf log which may contain the error message\n",
    "print(str(p.communicate()).replace('\\\\n','\\n' ))"
   ]
  },
  {
   "cell_type": "code",
   "execution_count": 9,
   "metadata": {},
   "outputs": [],
   "source": [
    "### tclsh oommf.tcl killoommf all"
   ]
  }
 ],
 "metadata": {
  "kernelspec": {
   "display_name": "Python 3",
   "language": "python",
   "name": "python3"
  },
  "language_info": {
   "codemirror_mode": {
    "name": "ipython",
    "version": 3
   },
   "file_extension": ".py",
   "mimetype": "text/x-python",
   "name": "python",
   "nbconvert_exporter": "python",
   "pygments_lexer": "ipython3",
   "version": "3.7.3"
  }
 },
 "nbformat": 4,
 "nbformat_minor": 2
}
